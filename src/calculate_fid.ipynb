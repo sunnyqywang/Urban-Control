{
 "cells": [
  {
   "cell_type": "code",
   "execution_count": 1,
   "id": "97bb24e7-e687-4960-8d78-3a0c33508f49",
   "metadata": {},
   "outputs": [],
   "source": [
    "from cleanfid import fid\n",
    "import pandas as pd\n",
    "import os\n",
    "os.chdir(\"/home/gridsan/qwang/urban-control/\")\n",
    "import shutil"
   ]
  },
  {
   "cell_type": "code",
   "execution_count": 13,
   "id": "beff3c07-e201-4d1b-9c6a-770af46d17cd",
   "metadata": {},
   "outputs": [],
   "source": [
    "model_runid = \"20250416_v3\"\n",
    "os.makedirs(f\"output/{model_runid}/validation_satellite_tiles/\", exist_ok=True)\n",
    "\n",
    "validation_df = pd.read_csv(f\"data/train/{model_runid}_validation.csv\")\n",
    "for img_path in validation_df['image_column']:\n",
    "    img_name = \"_\".join(img_path.split('/')[-3:])\n",
    "    shutil.copy(img_path, f\"output/{model_runid}/validation_satellite_tiles/{img_name}\")\n"
   ]
  },
  {
   "cell_type": "code",
   "execution_count": 28,
   "id": "b8681024-43ea-4d92-bc3b-c9f7f1a2905a",
   "metadata": {},
   "outputs": [
    {
     "data": {
      "text/plain": [
       "'forest_la_16+0+0_11165_26139.png'"
      ]
     },
     "execution_count": 28,
     "metadata": {},
     "output_type": "execute_result"
    }
   ],
   "source": [
    "name = \"data/satellite_tiles_control_forest/la/16+0+0/11165/26139.png\" # \"data/satellite_tiles_control_base/la/16+0+0/11169/26138.png\"\n"
   ]
  },
  {
   "cell_type": "code",
   "execution_count": null,
   "id": "3fc4d985-b852-4af5-bc58-924b64b917cf",
   "metadata": {},
   "outputs": [],
   "source": [
    "score = fid.compute_fid(f\"output/{model_runid}/validation_satellite_tiles/\",\n",
    "                        f\"output/{model_runid}/validation/52000/\",\n",
    "                       mode='clean')\n",
    "print(score)"
   ]
  },
  {
   "cell_type": "code",
   "execution_count": null,
   "id": "354ab2a6-5f63-4f18-ae69-ae45736b47e2",
   "metadata": {},
   "outputs": [],
   "source": []
  }
 ],
 "metadata": {
  "kernelspec": {
   "display_name": "control",
   "language": "python",
   "name": "control"
  },
  "language_info": {
   "codemirror_mode": {
    "name": "ipython",
    "version": 3
   },
   "file_extension": ".py",
   "mimetype": "text/x-python",
   "name": "python",
   "nbconvert_exporter": "python",
   "pygments_lexer": "ipython3",
   "version": "3.8.5"
  }
 },
 "nbformat": 4,
 "nbformat_minor": 5
}
