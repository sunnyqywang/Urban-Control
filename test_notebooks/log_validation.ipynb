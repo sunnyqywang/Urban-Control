{
 "cells": [
  {
   "cell_type": "code",
   "execution_count": null,
   "id": "cdf1c144-700b-40e8-a2e8-7d1751486f48",
   "metadata": {},
   "outputs": [
    {
     "name": "stdout",
     "output_type": "stream",
     "text": [
      "The autoreload extension is already loaded. To reload it, use:\n",
      "  %reload_ext autoreload\n"
     ]
    }
   ],
   "source": [
    "%load_ext autoreload\n",
    "%autoreload 2\n",
    "\n",
    "from log_validation import run_controlnet_validation\n",
    "import torch\n",
    "import argparse"
   ]
  },
  {
   "cell_type": "code",
   "execution_count": 28,
   "id": "96d0aaf3-11f9-4352-8b3d-f6174a69b9ba",
   "metadata": {},
   "outputs": [],
   "source": [
    "from diffusers import ControlNetModel"
   ]
  },
  {
   "cell_type": "code",
   "execution_count": 50,
   "id": "4a07e085-3c93-4694-b98c-f4f8c3781421",
   "metadata": {},
   "outputs": [
    {
     "name": "stderr",
     "output_type": "stream",
     "text": [
      "Loading pipeline components...: 100%|██████████| 6/6 [00:01<00:00,  3.32it/s]\n",
      "You have disabled the safety checker for <class 'diffusers.pipelines.controlnet.pipeline_controlnet.StableDiffusionControlNetPipeline'> by passing `safety_checker=None`. Ensure that you abide to the conditions of the Stable Diffusion license and do not expose unfiltered results in services or applications open to the public. Both the diffusers team and Hugging Face strongly recommend to keep the safety filter enabled in all public facing circumstances, disabling it only for use-cases that involve analyzing network behavior or auditing its results. For more information, please have a look at https://github.com/huggingface/diffusers/pull/254 .\n"
     ]
    },
    {
     "name": "stdout",
     "output_type": "stream",
     "text": [
      "Saved image to ../tmp/val_0.png\n",
      "Saved image to ../tmp/val_1.png\n",
      "Saved image to ../tmp/val_2.png\n",
      "Saved image to ../tmp/val_3.png\n"
     ]
    }
   ],
   "source": [
    "parser = argparse.ArgumentParser()\n",
    "parser.add_argument(\"--model_path\", type=str, required=True, help=\"Path to base pretrained SD model\")\n",
    "parser.add_argument(\"--controlnet_path\", type=str, required=True, help=\"Path to trained ControlNet weights\")\n",
    "parser.add_argument(\"--prompt\", type=str, required=True, help=\"Text prompt\")\n",
    "parser.add_argument(\"--control_image\", type=str, required=True, help=\"Path to control image\")\n",
    "parser.add_argument(\"--out_dir\", type=str, default=\"validation_outputs\", help=\"Directory to save images\")\n",
    "parser.add_argument(\"--num_images\", type=int, default=4)\n",
    "parser.add_argument(\"--num_steps\", type=int, default=30)\n",
    "parser.add_argument(\"--resolution\", type=int, default=512)\n",
    "parser.add_argument(\"--seed\", type=int, default=42)\n",
    "parser.add_argument(\"--dtype\", type=str, default=\"fp16\", choices=[\"fp16\", \"fp32\", \"bf16\"])\n",
    "\n",
    "input_args = [\"--model_path\",\"../models/stable-diffusion-v1-5\",\n",
    "              \"--controlnet_path\",\"../output/20250414_v3/checkpoint-6000/controlnet\",\n",
    "              \"--prompt\", \"This is a satellite image of dallas where the city forms the core. In terms of settlement, you'll find mostly residential (55%) in this zone , with pockets of recreational (30%) . Building density is low in this area. Furthermore, single-family homes structures dominate the residential areas.\", \n",
    "              \"--control_image\", \"../data/validation/chicago_16812_24354.png\",\n",
    "              \"--out_dir\", \"../tmp/\"\n",
    "             ]\n",
    "\n",
    "args = parser.parse_args(input_args)\n",
    "\n",
    "# torch_dtype = {\n",
    "#     \"fp16\": torch.float16,\n",
    "#     \"fp32\": torch.float32,\n",
    "#     \"bf16\": torch.bfloat16,\n",
    "# }[args.dtype]\n",
    "\n",
    "run_controlnet_validation(\n",
    "    model_path=args.model_path,\n",
    "    controlnet_path=args.controlnet_path,\n",
    "    prompt=args.prompt,\n",
    "    control_image_path=args.control_image,\n",
    "    out_dir=args.out_dir,\n",
    "    resolution=args.resolution,\n",
    "    seed=args.seed,\n",
    "    num_images=args.num_images,\n",
    "    num_steps=args.num_steps)\n"
   ]
  },
  {
   "cell_type": "code",
   "execution_count": 23,
   "id": "78458ea9-d122-4c8d-9e67-161f265c8ba3",
   "metadata": {},
   "outputs": [
    {
     "data": {
      "image/png": "[encoded data removed]",
      "text/plain": [
       "<PIL.PngImagePlugin.PngImageFile image mode=RGBA size=197x197>"
      ]
     },
     "execution_count": 23,
     "metadata": {},
     "output_type": "execute_result"
    }
   ],
   "source": [
    "from PIL import Image\n",
    "Image.open(args.control_image)"
   ]
  },
  {
   "cell_type": "code",
   "execution_count": null,
   "id": "d8c40747-8d35-49d4-b481-399cad10dd42",
   "metadata": {},
   "outputs": [],
   "source": []
  }
 ],
 "metadata": {
  "kernelspec": {
   "display_name": "control",
   "language": "python",
   "name": "control"
  },
  "language_info": {
   "codemirror_mode": {
    "name": "ipython",
    "version": 3
   },
   "file_extension": ".py",
   "mimetype": "text/x-python",
   "name": "python",
   "nbconvert_exporter": "python",
   "pygments_lexer": "ipython3",
   "version": "3.8.5"
  }
 },
 "nbformat": 4,
 "nbformat_minor": 5
}
