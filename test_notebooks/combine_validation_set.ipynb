{
 "cells": [
  {
   "cell_type": "code",
   "execution_count": 1,
   "metadata": {},
   "outputs": [],
   "source": [
    "import os\n",
    "os.chdir(\"/home/gridsan/qwang/urban-control/\")\n",
    "\n",
    "import pandas as pd\n",
    "from glob import glob"
   ]
  },
  {
   "cell_type": "code",
   "execution_count": 2,
   "metadata": {},
   "outputs": [],
   "source": [
    "validation_set_path = [\n",
    "    'data/train/20250416_v1_validation.csv', \n",
    "    'data/train/20250416_v2_validation.csv', \n",
    "    'data/train/20250416_v3_validation.csv', \n",
    "    'data/train/20250416_v4_validation.csv', \n",
    "]"
   ]
  },
  {
   "cell_type": "code",
   "execution_count": 25,
   "metadata": {},
   "outputs": [],
   "source": [
    "df_arr = []\n",
    "for i in validation_set_path:\n",
    "    df_tmp = pd.read_csv(i)\n",
    "    df_tmp = df_tmp[['city_name', 'x', 'y', 'x_offset', 'y_offset', 'image_column', 'conditioning_image_column']]\n",
    "    df_arr.append(df_tmp)\n",
    "\n",
    "df = pd.concat(df_arr).drop_duplicates()"
   ]
  },
  {
   "cell_type": "code",
   "execution_count": 26,
   "metadata": {},
   "outputs": [],
   "source": [
    "df.to_csv('data/validation/20250416_validation_set.csv', index=False)"
   ]
  },
  {
   "cell_type": "code",
   "execution_count": 27,
   "metadata": {},
   "outputs": [],
   "source": [
    "for i in range(1,5):\n",
    "    df_train_tmp = pd.read_csv(f'data/train/20250416_v{i}_train.csv')\n",
    "    df_validation_tmp = pd.read_csv(f'data/train/20250416_v{i}_validation.csv')\n",
    "    df_tmp = pd.concat([df_train_tmp, df_validation_tmp])\n",
    "    if i == 4:\n",
    "        df_tmp = df_tmp.rename(columns = {'llm_caption': f'caption_v{i}'})[['city_name', 'x', 'y', 'x_offset', 'y_offset', 'image_column', 'conditioning_image_column', f'caption_v{i}']]\n",
    "    else:\n",
    "        df_tmp = df_tmp.rename(columns = {'caption': f'caption_v{i}'})[['city_name', 'x', 'y', 'x_offset', 'y_offset', 'image_column', 'conditioning_image_column', f'caption_v{i}']]\n",
    "    df = pd.merge(df, df_tmp, on = ['city_name', 'x', 'y', 'x_offset', 'y_offset', 'image_column', 'conditioning_image_column'], how='left')"
   ]
  },
  {
   "cell_type": "code",
   "execution_count": 28,
   "metadata": {},
   "outputs": [],
   "source": [
    "df['caption_v3'] = df['caption_v3'].str.replace('City:', 'Satellite image in a city in')"
   ]
  },
  {
   "cell_type": "code",
   "execution_count": 29,
   "metadata": {},
   "outputs": [
    {
     "data": {
      "text/plain": [
       "Index(['city_name', 'x', 'y', 'x_offset', 'y_offset', 'image_column',\n",
       "       'conditioning_image_column', 'caption_v1', 'caption_v2', 'caption_v3',\n",
       "       'caption_v4'],\n",
       "      dtype='object')"
      ]
     },
     "execution_count": 29,
     "metadata": {},
     "output_type": "execute_result"
    }
   ],
   "source": [
    "df.columns"
   ]
  },
  {
   "cell_type": "code",
   "execution_count": 30,
   "metadata": {},
   "outputs": [],
   "source": [
    "for i in range(1,5):\n",
    "    df_export = df.dropna(subset=[\"caption_v\"+str(i)])\n",
    "    df_export = df_export.rename(columns={\"caption_v\"+str(i):\"caption\"})\n",
    "    df_export = df_export[['city_name', 'x', 'y', 'x_offset', 'y_offset', 'image_column', 'conditioning_image_column', 'caption']]\n",
    "    \n",
    "    df_export.to_csv(f'data/validation/20250416_validation_v{str(i)}.csv', index=False)\n",
    "    "
   ]
  },
  {
   "cell_type": "code",
   "execution_count": null,
   "metadata": {},
   "outputs": [],
   "source": []
  }
 ],
 "metadata": {
  "kernelspec": {
   "display_name": "Python 3 (ipykernel)",
   "language": "python",
   "name": "python3"
  },
  "language_info": {
   "codemirror_mode": {
    "name": "ipython",
    "version": 3
   },
   "file_extension": ".py",
   "mimetype": "text/x-python",
   "name": "python",
   "nbconvert_exporter": "python",
   "pygments_lexer": "ipython3",
   "version": "3.9.15"
  }
 },
 "nbformat": 4,
 "nbformat_minor": 4
}
