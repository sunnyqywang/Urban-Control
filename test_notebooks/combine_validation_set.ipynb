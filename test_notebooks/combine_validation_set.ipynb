{
 "cells": [
  {
   "cell_type": "code",
   "execution_count": 8,
   "metadata": {},
   "outputs": [],
   "source": [
    "import os\n",
    "os.chdir(\"/home/kxu/workspace/Urban-Control/\")\n",
    "\n",
    "import pandas as pd\n",
    "from glob import glob"
   ]
  },
  {
   "cell_type": "code",
   "execution_count": 32,
   "metadata": {},
   "outputs": [],
   "source": [
    "validation_set_path = [\n",
    "    'data/train/20250416_v1_validation.csv', \n",
    "    'data/train/20250416_v2_validation.csv', \n",
    "    'data/train/20250416_v3_validation.csv', \n",
    "    'data/train/20250416_v4_validation.csv', \n",
    "]"
   ]
  },
  {
   "cell_type": "code",
   "execution_count": 51,
   "metadata": {},
   "outputs": [],
   "source": [
    "df_arr = []\n",
    "for i in validation_set_path:\n",
    "    df_tmp = pd.read_csv(i)\n",
    "    df_tmp = df_tmp[['city_name', 'x', 'y', 'x_offset', 'y_offset', 'image_column', 'conditioning_image_column']]\n",
    "    df_arr.append(df_tmp)\n",
    "\n",
    "df = pd.concat(df_arr).drop_duplicates()"
   ]
  },
  {
   "cell_type": "code",
   "execution_count": 21,
   "metadata": {},
   "outputs": [],
   "source": [
    "df.to_csv('data/validation/20250416_validation_base', index=False)"
   ]
  },
  {
   "cell_type": "code",
   "execution_count": 52,
   "metadata": {},
   "outputs": [],
   "source": [
    "for i in range(4):\n",
    "    df_train_tmp = pd.read_csv(f'data/train/20250416_v{i+1}_train.csv')\n",
    "    df_validation_tmp = pd.read_csv(f'data/train/20250416_v{i+1}_validation.csv')\n",
    "    df_tmp = pd.concat([df_train_tmp, df_validation_tmp])\n",
    "    if i == 3:\n",
    "        df_tmp = df_tmp.rename(columns = {'llm_caption': f'caption_v{i+1}'})[['city_name', 'x', 'y', 'x_offset', 'y_offset', 'image_column', 'conditioning_image_column', f'caption_v{i+1}']]\n",
    "    else:\n",
    "        df_tmp = df_tmp.rename(columns = {'caption': f'caption_v{i+1}'})[['city_name', 'x', 'y', 'x_offset', 'y_offset', 'image_column', 'conditioning_image_column', f'caption_v{i+1}']]\n",
    "    df = pd.merge(df, df_tmp, on = ['city_name', 'x', 'y', 'x_offset', 'y_offset', 'image_column', 'conditioning_image_column'], how='left')"
   ]
  },
  {
   "cell_type": "code",
   "execution_count": 54,
   "metadata": {},
   "outputs": [],
   "source": [
    "df['caption_v3'] = df['caption_v3'].str.replace('City:', 'Satellite image in a city in')"
   ]
  },
  {
   "cell_type": "code",
   "execution_count": 56,
   "metadata": {},
   "outputs": [],
   "source": [
    "df.to_csv('data/validation/20250416_validation_merged', index=False)"
   ]
  },
  {
   "cell_type": "code",
   "execution_count": null,
   "metadata": {},
   "outputs": [],
   "source": []
  }
 ],
 "metadata": {
  "kernelspec": {
   "display_name": "urban_control",
   "language": "python",
   "name": "python3"
  },
  "language_info": {
   "codemirror_mode": {
    "name": "ipython",
    "version": 3
   },
   "file_extension": ".py",
   "mimetype": "text/x-python",
   "name": "python",
   "nbconvert_exporter": "python",
   "pygments_lexer": "ipython3",
   "version": "3.13.3"
  },
  "orig_nbformat": 4
 },
 "nbformat": 4,
 "nbformat_minor": 2
}
