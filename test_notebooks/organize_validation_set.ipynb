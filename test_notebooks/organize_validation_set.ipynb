{
 "cells": [
  {
   "cell_type": "code",
   "execution_count": 21,
   "id": "4db57a49-d238-4a72-8557-25c69e489067",
   "metadata": {},
   "outputs": [],
   "source": [
    "import os\n",
    "import shutil\n",
    "os.chdir(\"/home/gridsan/qwang/urban-control/\")\n",
    "\n",
    "import pandas as pd"
   ]
  },
  {
   "cell_type": "code",
   "execution_count": 22,
   "id": "e7274934-19e9-41ec-8d26-ab086daf676b",
   "metadata": {},
   "outputs": [],
   "source": [
    "validation_set_path = 'data/validation/20250416_validation_set.csv'\n",
    "loc_list = ['dallas/', 'chicago/', 'la/']\n",
    "\n",
    "df = pd.read_csv(validation_set_path)"
   ]
  },
  {
   "cell_type": "code",
   "execution_count": 23,
   "id": "e29a5d95-a82d-4c27-9cb5-1f1f7ac8e9b8",
   "metadata": {},
   "outputs": [],
   "source": [
    "for place in loc_list:\n",
    "    os.makedirs(f'output/validation_satellite_tiles/{place}', exist_ok=True)"
   ]
  },
  {
   "cell_type": "code",
   "execution_count": 24,
   "id": "d6d9fa19-be51-46ba-a381-b0a86be90f41",
   "metadata": {},
   "outputs": [],
   "source": [
    "for place in loc_list:\n",
    "    dest = f'output/validation_satellite_tiles/{place}'\n",
    "    for d in df[df['image_column'].str.contains(place)]['image_column']:\n",
    "        name = \"_\".join(d.split('/')[-4:])\n",
    "        shutil.copy2(d, os.path.join(dest, name))"
   ]
  },
  {
   "cell_type": "code",
   "execution_count": 20,
   "id": "d8a9557b-075d-4d28-86a9-b703735fe5ed",
   "metadata": {},
   "outputs": [
    {
     "data": {
      "text/plain": [
       "city_name                    6200\n",
       "x                            6200\n",
       "y                            6200\n",
       "x_offset                     6200\n",
       "y_offset                     6200\n",
       "image_column                 6200\n",
       "conditioning_image_column    6200\n",
       "dtype: int64"
      ]
     },
     "execution_count": 20,
     "metadata": {},
     "output_type": "execute_result"
    }
   ],
   "source": [
    "df.count()"
   ]
  },
  {
   "cell_type": "code",
   "execution_count": null,
   "id": "ebf16e49-c933-4e99-be59-4777898a5032",
   "metadata": {},
   "outputs": [],
   "source": []
  }
 ],
 "metadata": {
  "kernelspec": {
   "display_name": "Python 3 (ipykernel)",
   "language": "python",
   "name": "python3"
  },
  "language_info": {
   "codemirror_mode": {
    "name": "ipython",
    "version": 3
   },
   "file_extension": ".py",
   "mimetype": "text/x-python",
   "name": "python",
   "nbconvert_exporter": "python",
   "pygments_lexer": "ipython3",
   "version": "3.9.15"
  }
 },
 "nbformat": 4,
 "nbformat_minor": 5
}
