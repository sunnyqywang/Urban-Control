{
 "cells": [
  {
   "cell_type": "code",
   "execution_count": 5,
   "id": "dd163809-6bcc-490c-bb7b-071ba4e63841",
   "metadata": {},
   "outputs": [],
   "source": [
    "%load_ext autoreload\n",
    "%autoreload 2\n"
   ]
  },
  {
   "cell_type": "code",
   "execution_count": 1,
   "id": "91651ffc-191b-4553-b022-f48c982c8463",
   "metadata": {},
   "outputs": [],
   "source": [
    "import os\n",
    "import fiona\n",
    "import geopandas as gpd\n",
    "from shapely.geometry import shape\n",
    "from pyproj import Transformer"
   ]
  },
  {
   "cell_type": "code",
   "execution_count": 2,
   "id": "b1472402-95ac-4e10-87a7-c214241c27c5",
   "metadata": {},
   "outputs": [],
   "source": [
    "import os\n",
    "os.chdir(\"/home/gridsan/qwang/urban-control/\")\n"
   ]
  },
  {
   "cell_type": "code",
   "execution_count": 6,
   "id": "c1e88cbb-6d81-4494-83de-7d6857a0e2ee",
   "metadata": {},
   "outputs": [],
   "source": [
    "from src.utils_geo import *"
   ]
  },
  {
   "cell_type": "code",
   "execution_count": 8,
   "id": "22257958-d5c1-4e14-bb6a-ca7c44a8391f",
   "metadata": {},
   "outputs": [
    {
     "name": "stdout",
     "output_type": "stream",
     "text": [
      "📍 Clipping gis_osm_railways_free_1.shp...\n",
      "(-97.54211, 32.3612, -96.405013, 33.39016)\n",
      "❌ Error processing gis_osm_railways_free_1.shp: object of type 'fiona.ogrext.Iterator' has no len()\n",
      "📍 Clipping gis_osm_buildings_a_free_1.shp...\n",
      "(-97.54211, 32.3612, -96.405013, 33.39016)\n",
      "❌ Error processing gis_osm_buildings_a_free_1.shp: object of type 'fiona.ogrext.Iterator' has no len()\n",
      "📍 Clipping gis_osm_places_a_free_1.shp...\n",
      "(-97.54211, 32.3612, -96.405013, 33.39016)\n",
      "❌ Error processing gis_osm_places_a_free_1.shp: object of type 'fiona.ogrext.Iterator' has no len()\n",
      "📍 Clipping gis_osm_roads_free_1.shp...\n",
      "(-97.54211, 32.3612, -96.405013, 33.39016)\n",
      "❌ Error processing gis_osm_roads_free_1.shp: object of type 'fiona.ogrext.Iterator' has no len()\n",
      "📍 Clipping gis_osm_water_a_free_1.shp...\n",
      "(-97.54211, 32.3612, -96.405013, 33.39016)\n",
      "❌ Error processing gis_osm_water_a_free_1.shp: object of type 'fiona.ogrext.Iterator' has no len()\n",
      "📍 Clipping gis_osm_landuse_a_free_1.shp...\n",
      "(-97.54211, 32.3612, -96.405013, 33.39016)\n",
      "❌ Error processing gis_osm_landuse_a_free_1.shp: object of type 'fiona.ogrext.Iterator' has no len()\n",
      "📍 Clipping gis_osm_traffic_a_free_1.shp...\n",
      "(-97.54211, 32.3612, -96.405013, 33.39016)\n",
      "❌ Error processing gis_osm_traffic_a_free_1.shp: object of type 'fiona.ogrext.Iterator' has no len()\n",
      "📍 Clipping gis_osm_waterways_free_1.shp...\n",
      "(-97.54211, 32.3612, -96.405013, 33.39016)\n",
      "❌ Error processing gis_osm_waterways_free_1.shp: object of type 'fiona.ogrext.Iterator' has no len()\n"
     ]
    }
   ],
   "source": [
    "batch_clip_shapefiles(shapefile_dir='data/shapefiles/texas-0915/', \n",
    "                      bbox=(-97.54211,32.3612,-96.405013,33.39016), \n",
    "                      output_dir=\"data/geojsons/\", \n",
    "                      bbox_crs=\"EPSG:4326\")"
   ]
  },
  {
   "cell_type": "code",
   "execution_count": null,
   "id": "2ebaab66-18c5-4443-b131-8b48ec325b6a",
   "metadata": {},
   "outputs": [],
   "source": []
  }
 ],
 "metadata": {
  "kernelspec": {
   "display_name": "control",
   "language": "python",
   "name": "control"
  },
  "language_info": {
   "codemirror_mode": {
    "name": "ipython",
    "version": 3
   },
   "file_extension": ".py",
   "mimetype": "text/x-python",
   "name": "python",
   "nbconvert_exporter": "python",
   "pygments_lexer": "ipython3",
   "version": "3.8.5"
  }
 },
 "nbformat": 4,
 "nbformat_minor": 5
}
