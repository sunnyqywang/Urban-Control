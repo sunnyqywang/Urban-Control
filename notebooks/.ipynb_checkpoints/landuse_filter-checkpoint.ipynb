{
 "cells": [
  {
   "cell_type": "code",
   "execution_count": 78,
   "id": "2345bbaf-bad8-42a0-8ac8-7c60ed49b720",
   "metadata": {},
   "outputs": [],
   "source": [
    "import glob\n",
    "import os\n",
    "os.chdir(\"/home/gridsan/qwang/urban-control/\")\n",
    "import numpy as np\n",
    "import pandas as pd"
   ]
  },
  {
   "cell_type": "code",
   "execution_count": 79,
   "id": "c4e6d361-96eb-4edc-b122-c04b8dc9cc1d",
   "metadata": {},
   "outputs": [],
   "source": [
    "files = glob.glob(\"data/landuse_overlay/*_[0-9].csv\")"
   ]
  },
  {
   "cell_type": "code",
   "execution_count": 80,
   "id": "a50384df-af9c-4a85-abc8-b5d4a7cb8e2c",
   "metadata": {},
   "outputs": [
    {
     "name": "stdout",
     "output_type": "stream",
     "text": [
      "dallas 5 5 6441\n",
      "chicago 0 0 14500\n",
      "dallas 0 0 6402\n",
      "la 5 5 7423\n",
      "la 5 0 7454\n",
      "la 0 5 7402\n",
      "dallas 0 5 6392\n",
      "la 0 0 7452\n",
      "dallas 5 0 6354\n",
      "chicago 5 5 14509\n"
     ]
    }
   ],
   "source": [
    "for f in files:\n",
    "    \n",
    "    city, offset_right, offset_down = f.split('/')[-1].split('.')[0].split('_')\n",
    "\n",
    "    df = pd.read_csv(f)\n",
    "\n",
    "    landuse_cols = [c for c in df.columns if 'area_m2' in c]\n",
    "\n",
    "    landuse_cols.append('parking')\n",
    "\n",
    "    df['total_landuse_cover'] = 0\n",
    "    for c in landuse_cols:\n",
    "        df['total_landuse_cover'] += df[c].fillna(0)\n",
    "\n",
    "    df.loc[df['total_landuse_cover']>1, landuse_cols] /= df['total_landuse_cover']\n",
    "    df['total_landuse_cover'] = 0\n",
    "    for c in landuse_cols:\n",
    "        df['total_landuse_cover'] += df[c].fillna(0)\n",
    "\n",
    "    df = df[df['total_landuse_cover']>0.8]\n",
    "    \n",
    "    landuse_building_cols = ['area_m2_commercial',\n",
    "     'area_m2_industrial',\n",
    "     'area_m2_recreational',\n",
    "     'area_m2_residential']\n",
    "\n",
    "    df['building_landuse_denominator'] = 0\n",
    "    for c in landuse_building_cols:\n",
    "        df['building_landuse_denominator'] += df[c].fillna(0)\n",
    "    df['building_landuse_denominator'] = np.where(df['building_landuse_denominator']==0, np.nan, df['building_landuse_denominator'])\n",
    "\n",
    "    df['building_density'] = df['tot_building_footprint']/df['building_landuse_denominator']\n",
    "    df['building_density'] = np.where(df['building_density'] <= 1, df['building_density'], np.nan)\n",
    "    \n",
    "    # df.to_csv(f\"data/landuse_overlay/{city}_{offset_right}_{offset_down}_filtered.csv\", index=False)\n",
    "\n",
    "    print(city, offset_right, offset_down, len(df))"
   ]
  },
  {
   "cell_type": "code",
   "execution_count": 77,
   "id": "cd244e37-80cf-440e-9659-293a0a6a5e3d",
   "metadata": {},
   "outputs": [
    {
     "data": {
      "text/plain": [
       "(array([1.960e+02, 7.270e+02, 3.455e+03, 2.077e+03, 3.490e+02, 6.100e+01,\n",
       "        8.000e+00, 5.000e+00, 3.000e+00, 4.000e+00]),\n",
       " array([3.53295646e-05, 9.51581680e-02, 1.90281006e-01, 2.85403845e-01,\n",
       "        3.80526683e-01, 4.75649522e-01, 5.70772360e-01, 6.65895199e-01,\n",
       "        7.61018037e-01, 8.56140875e-01, 9.51263714e-01]),\n",
       " <BarContainer object of 10 artists>)"
      ]
     },
     "execution_count": 77,
     "metadata": {},
     "output_type": "execute_result"
    },
    {
     "data": {
      "image/png": "[encoded data removed]",
      "text/plain": [
       "<Figure size 640x480 with 1 Axes>"
      ]
     },
     "metadata": {},
     "output_type": "display_data"
    }
   ],
   "source": [
    "import matplotlib.pyplot as plt\n",
    "plt.hist(df['building_density'].dropna())"
   ]
  },
  {
   "cell_type": "code",
   "execution_count": null,
   "id": "abca8c27-f163-419c-85c9-84d4bf3b0dbb",
   "metadata": {},
   "outputs": [],
   "source": []
  }
 ],
 "metadata": {
  "kernelspec": {
   "display_name": "control",
   "language": "python",
   "name": "control"
  },
  "language_info": {
   "codemirror_mode": {
    "name": "ipython",
    "version": 3
   },
   "file_extension": ".py",
   "mimetype": "text/x-python",
   "name": "python",
   "nbconvert_exporter": "python",
   "pygments_lexer": "ipython3",
   "version": "3.8.5"
  }
 },
 "nbformat": 4,
 "nbformat_minor": 5
}
