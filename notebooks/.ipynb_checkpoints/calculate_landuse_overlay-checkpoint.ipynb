{
 "cells": [
  {
   "cell_type": "code",
   "execution_count": 1,
   "id": "99dd4bc7-31a8-4045-a8cb-37ea832b7994",
   "metadata": {},
   "outputs": [],
   "source": [
    "%load_ext autoreload\n",
    "%autoreload 2\n",
    "\n",
    "import numpy as np\n",
    "import pandas as pd\n",
    "\n",
    "import geopandas as gpd\n",
    "import mercantile\n",
    "from shapely.geometry import box\n",
    "from shapely.ops import unary_union\n",
    "\n",
    "import os\n",
    "os.chdir(\"/home/gridsan/qwang/urban-control/\")\n",
    "\n",
    "from src.utils_io import *\n",
    "from src.utils_geo import *"
   ]
  },
  {
   "cell_type": "code",
   "execution_count": 2,
   "id": "232c6e31-a63e-4a60-81c1-e5d285100fd7",
   "metadata": {},
   "outputs": [],
   "source": [
    "city = 'la'\n",
    "\n",
    "params_file = f\"configs/configs_{city}.yaml\"\n",
    "params = load_config(params_file)\n",
    "io_file = f\"configs/io_{city}.yaml\"\n",
    "io_config = load_config(io_file)\n",
    "osm_mapping_file = \"configs/configs_osm_layers.yaml\"\n",
    "osm_mapping = load_config(osm_mapping_file)"
   ]
  },
  {
   "cell_type": "code",
   "execution_count": 4,
   "id": "1325b9d6-d206-477f-b5a2-9c11e182aac8",
   "metadata": {},
   "outputs": [],
   "source": [
    "# Create tile grid\n",
    "bbox = [float(x) for x in params['bounding_box'].split(',')]\n",
    "tile_grid = create_tile_grid(bbox, params['zoom'], 0.0, 0.0)\n",
    "\n",
    "# Calculate tile area\n",
    "tile_area = calculate_tile_area(params['zoom'], params['central_x'], params['central_y'])\n",
    "tile_area = np.round(tile_area, -2)"
   ]
  },
  {
   "cell_type": "code",
   "execution_count": 6,
   "id": "9ac5a404-7123-428e-9dd3-89d4bae28e09",
   "metadata": {},
   "outputs": [
    {
     "name": "stdout",
     "output_type": "stream",
     "text": [
      "Loading ...  traffic\n"
     ]
    }
   ],
   "source": [
    "# Read relevant shapefiles\n",
    "layers = load_all({'traffic':io_config['geojsons']['traffic']}, params={'bbox':bbox})"
   ]
  },
  {
   "cell_type": "code",
   "execution_count": null,
   "id": "e54a98bd-262d-4fb8-b08d-8fa728c42274",
   "metadata": {},
   "outputs": [],
   "source": [
    "if 'landuse_complement' not in params['layers_calculate']:\n",
    "    # Complement land use layer with building layer\n",
    "    buildings = layers['buildings']\n",
    "    landuse = layers['landuse']\n",
    "    # Only take buildings with type information\n",
    "    buildings = buildings[~buildings['type'].isna()]\n",
    "    # Keep buildings when land use layer is missing\n",
    "    landuse_complement = gpd.sjoin(buildings, landuse, how='left', predicate=\"intersects\")\n",
    "    landuse_complement = landuse_complement[landuse_complement[\"index_right\"].isna()]\n",
    "    # Cast building types to landuse types\n",
    "    landuse_complement['fclass'] = landuse_complement['type'].map(osm_mapping['building_landuse_mapping'])\n",
    "    landuse_complement = landuse_complement.to_crs(3857)\n",
    "    landuse_complement_dissolved = dissolve_by_type_and_distance(landuse_complement,\"fclass\",50)\n"
   ]
  },
  {
   "cell_type": "code",
   "execution_count": 8,
   "id": "81eb57c3-208c-4b52-b523-d8b9a74eb7ac",
   "metadata": {
    "tags": []
   },
   "outputs": [
    {
     "name": "stdout",
     "output_type": "stream",
     "text": [
      "Processing traffic\n"
     ]
    }
   ],
   "source": [
    "landuse_df = None\n",
    "\n",
    "for layer_name in ['traffic']: #params['layers_calculate']:\n",
    "    print(\"Processing\", layer_name)\n",
    "    \n",
    "    layer = layers[layer_name].to_crs(epsg=3857)\n",
    "\n",
    "    if layer_name == 'water':\n",
    "        layer['fclass'] = 'water'\n",
    "    elif layer_name in ['landuse','traffic']:\n",
    "        layer['fclass'] = layer['fclass'].map(osm_mapping['landuse_mapping'])   \n",
    "\n",
    "    if layer_name == 'landuse':\n",
    "        layer = pd.concat([layer[['fclass','geometry']].to_crs(\"EPSG: 4326\"), \n",
    "                           landuse_complement_dissolved[['fclass','geometry']].to_crs(\"EPSG: 4326\")])\n",
    "        layer = layer.to_crs(epsg=3857)\n",
    "        layer.to_file(f\"{args.proj_root_dir}/data/geojsons/{city}/landuse_complement.geojson\", driver=\"GeoJSON\")\n",
    "        # parking is handled by traffic layer\n",
    "        layer = layer[layer['fclass']!='parking']\n",
    "\n",
    "    if layer_name == 'landuse_complement':\n",
    "        # parking is handled by traffic layer\n",
    "        layer = layer[layer['fclass']!='parking']\n",
    "            \n",
    "    intersections = gpd.overlay(tile_grid, layer, how='intersection')\n",
    "    \n",
    "    if layer_name == 'buildings':\n",
    "        residential_intersections = intersections[intersections['type'].isin(['house','apartments','terrace','residential','detached'])]\n",
    "        residential_intersections['fclass'] = residential_intersections['type'].map(osm_mapping['building_residential_mapping'])\n",
    "        residential_intersections = residential_intersections.groupby(['z','x','y','fclass'], as_index=False).agg(area_m2=('geometry', lambda x: unary_union(x).area))\n",
    "        residential_intersections = residential_intersections.pivot(index=['z','x','y'], columns='fclass', values='area_m2')\n",
    "        residential_intersections = residential_intersections.reset_index()\n",
    "\n",
    "        intersections = intersections.groupby(['z','x','y'], as_index=False).agg(\n",
    "            avg_building_footprint=pd.NamedAgg(column='area_m2', aggfunc=\"mean\"),\n",
    "            tot_building_footprint=pd.NamedAgg(column='area_m2', aggfunc=\"sum\")\n",
    "        )\n",
    "        intersections = intersections.reset_index()\n",
    "        intersections = intersections.merge(residential_intersections, on=['z','x','y'], how='left')\n",
    "\n",
    "    elif (layer_name == 'landuse') | (layer_name == 'landuse_complement'):\n",
    "        intersections = intersections.groupby(['z','x','y','xmin','ymin','xmax','ymax','fclass'], as_index=False).agg(\n",
    "            convex_hull=('geometry', lambda x: unary_union(x).convex_hull),\n",
    "            convex_hull_area=('geometry', lambda x: unary_union(x).convex_hull.area),\n",
    "            centroid_x=('geometry', lambda x: unary_union(x).centroid.x),\n",
    "            centroid_y=('geometry', lambda x: unary_union(x).centroid.y),\n",
    "            area_m2=('geometry', lambda x: unary_union(x).area)\n",
    "        )\n",
    "        intersections['centroid_position_x'] = (intersections['centroid_x']-intersections['xmin']) / (intersections['xmax']-intersections['xmin'])\n",
    "        intersections['centroid_position_y'] = (intersections['centroid_y']-intersections['ymin']) / (intersections['ymax']-intersections['ymin'])\n",
    "        intersections['concentrated'] = intersections['area_m2'] / intersections['convex_hull_area']\n",
    "        \n",
    "        intersections = intersections.set_index(['z','x','y','fclass'])\n",
    "        intersections = intersections[['area_m2','convex_hull_area','concentrated','centroid_position_x','centroid_position_y']].unstack('fclass')\n",
    "        intersections.columns = [f\"{col[0]}_{col[1]}\" for col in intersections.columns]\n",
    "        \n",
    "        intersections = intersections.reset_index()\n",
    "\n",
    "    else:\n",
    "        intersections = intersections.groupby(['z','x','y','fclass'], as_index=False).agg(area_m2=('geometry', lambda x: unary_union(x).area))\n",
    "        intersections = intersections.pivot(index=['z','x','y'], columns='fclass', values='area_m2')\n",
    "        intersections = intersections.reset_index()            \n",
    "\n",
    "    if landuse_df is not None:\n",
    "        landuse_df = landuse_df.merge(intersections, on=['z','x','y'], how='left')\n",
    "    else:\n",
    "        landuse_df = intersections\n",
    "\n",
    "cols = [c for c in landuse_df.columns if (c not in ['z','x','y','index']) & ('centroid' not in c) & ('concentrated' not in c)]\n",
    "landuse_df.loc[:, cols] = landuse_df[cols]/tile_area\n"
   ]
  },
  {
   "cell_type": "code",
   "execution_count": null,
   "id": "23ab7350-408b-4d23-bd57-c73a96c9e153",
   "metadata": {},
   "outputs": [],
   "source": [
    "landuse_df.to_csv(f\"data/landuse_overlay/{city}_V2.csv\", index=False)\n"
   ]
  },
  {
   "cell_type": "code",
   "execution_count": null,
   "id": "6a9f398e-b61d-4c4c-9cf0-87b4e878f8ea",
   "metadata": {},
   "outputs": [],
   "source": []
  }
 ],
 "metadata": {
  "kernelspec": {
   "display_name": "control",
   "language": "python",
   "name": "control"
  },
  "language_info": {
   "codemirror_mode": {
    "name": "ipython",
    "version": 3
   },
   "file_extension": ".py",
   "mimetype": "text/x-python",
   "name": "python",
   "nbconvert_exporter": "python",
   "pygments_lexer": "ipython3",
   "version": "3.8.5"
  }
 },
 "nbformat": 4,
 "nbformat_minor": 5
}
