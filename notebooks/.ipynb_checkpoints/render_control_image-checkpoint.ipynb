{
 "cells": [
  {
   "cell_type": "code",
   "execution_count": 1,
   "id": "29f4795a-59bb-48b4-a551-df8f9dd812cc",
   "metadata": {},
   "outputs": [],
   "source": [
    "%load_ext autoreload\n",
    "%autoreload 2\n",
    "\n",
    "import numpy as np\n",
    "import pandas as pd\n",
    "\n",
    "import geopandas as gpd\n",
    "import mercantile\n",
    "from shapely.geometry import box\n",
    "\n",
    "import os\n",
    "os.chdir(\"/home/gridsan/qwang/urban-control/\")\n",
    "\n",
    "from src.utils_io import *\n",
    "from src.utils_geo import *"
   ]
  },
  {
   "cell_type": "code",
   "execution_count": 30,
   "id": "079e7b3b-2b45-4d43-99c3-885af763df26",
   "metadata": {},
   "outputs": [],
   "source": [
    "city = 'chicago'\n",
    "\n",
    "params_file = f\"configs/configs_{city}.yaml\"\n",
    "params = load_config(params_file)\n",
    "io_file = f\"configs/io_{city}.yaml\"\n",
    "io_config = load_config(io_file)\n",
    "osm_params_file = \"configs/configs_osm_layers.yaml\"\n",
    "osm_params = load_config(osm_params_file)"
   ]
  },
  {
   "cell_type": "code",
   "execution_count": 6,
   "id": "7a7a9bc1-821b-4e5e-bb54-8150539c7408",
   "metadata": {},
   "outputs": [],
   "source": [
    "# Create tile grid\n",
    "bbox = [float(x) for x in params['bounding_box'].split(',')]\n",
    "tile_grid = create_tile_grid(bbox, params['zoom'])\n",
    "\n",
    "# Calculate tile area\n",
    "tile_area = calculate_tile_area(params['zoom'], params['central_x'], params['central_y'])\n",
    "tile_area = np.round(tile_area, -2)"
   ]
  },
  {
   "cell_type": "code",
   "execution_count": 10,
   "id": "546a054a-90c6-46b4-b92d-6d84bc0fce97",
   "metadata": {},
   "outputs": [
    {
     "name": "stdout",
     "output_type": "stream",
     "text": [
      "Loading ...  water\n",
      "Loading ...  waterways\n",
      "Loading ...  railways\n",
      "Loading ...  roads\n",
      "Loading ...  landuse_complement\n"
     ]
    }
   ],
   "source": [
    "layer_render = osm_params['layers_render'].keys()\n",
    "\n",
    "# Read relevant shapefiles\n",
    "load_files = {}\n",
    "for name in layer_render:\n",
    "    load_files[name] = io_config['geojsons'][name]\n",
    "load_files['landuse_complement'] = io_config['geojsons']['landuse_complement']\n",
    "layers = load_all(load_files, params={'bbox':bbox})\n"
   ]
  },
  {
   "cell_type": "code",
   "execution_count": 13,
   "id": "a0b901f9-c5b0-4a80-bab0-93963bdc54a2",
   "metadata": {},
   "outputs": [
    {
     "name": "stdout",
     "output_type": "stream",
     "text": [
      "📦 Loading and assigning layers...\n",
      "  ✅ water: 42489 features assigned to tiles\n",
      "  ✅ waterways: 25039 features assigned to tiles\n",
      "  ✅ railways: 37381 features assigned to tiles\n",
      "  ✅ roads: 109655 features assigned to tiles\n"
     ]
    }
   ],
   "source": [
    "from multiprocessing import Pool\n",
    "NUM_WORKERS = 8\n",
    "\n",
    "grouped_layers = {}\n",
    "print(\"📦 Loading and assigning layers...\")\n",
    "\n",
    "layer = layers['landuse_complement'].to_crs(\"EPSG:3857\")\n",
    "layer = layer[layer['fclass']=='industrial']\n",
    "assigned = assign_features_to_tiles(layer, tile_grid)\n",
    "grouped_layers['industrial'] = assigned\n",
    "\n",
    "for name in layer_render:\n",
    "    layer = layers[name].to_crs(\"EPSG:3857\")\n",
    "    if 'filters' in osm_params['layers_render'][name]:\n",
    "        for c, f in osm_params['layers_render'][name]['filters'].items():\n",
    "            if isinstance(f, list):\n",
    "                layer = layer[layer[c].isin(f)]\n",
    "            elif isinstance(f, dict):\n",
    "                if 'geq' in f.keys():\n",
    "                    layer = layer[layer[c] >= float(f['geq'])]\n",
    "            else:\n",
    "                raise ValueError(\"unknown filter condition\")\n",
    "    assigned = assign_features_to_tiles(layer, tile_grid)\n",
    "    grouped_layers[name] = assigned\n",
    "    print(f\"  ✅ {name}: {len(assigned)} features assigned to tiles\")"
   ]
  },
  {
   "cell_type": "code",
   "execution_count": 29,
   "id": "1216bdfc-62a9-43f1-a8e8-8caabbce27e2",
   "metadata": {},
   "outputs": [],
   "source": []
  },
  {
   "cell_type": "code",
   "execution_count": 35,
   "id": "1a6beded-c693-4f81-b5cf-f06f870a3c9d",
   "metadata": {},
   "outputs": [
    {
     "data": {
      "text/plain": [
       "dict_keys(['water', 'waterways', 'railways', 'roads', 'industrial'])"
      ]
     },
     "execution_count": 35,
     "metadata": {},
     "output_type": "execute_result"
    }
   ],
   "source": [
    "grouped_layers.keys()"
   ]
  },
  {
   "cell_type": "code",
   "execution_count": 36,
   "id": "1936e97a-19cb-4774-977b-cdadeb01ad16",
   "metadata": {},
   "outputs": [
    {
     "name": "stdout",
     "output_type": "stream",
     "text": [
      "water\n",
      "waterways\n",
      "railways\n",
      "roads\n",
      "industrial\n"
     ]
    }
   ],
   "source": [
    "sample_grid = tile_grid[(tile_grid['x'] == 16814) & (tile_grid['y'] == 24363)]\n",
    "\n",
    "render_tile((16, 16814, 24363, sample_grid['geometry'].iloc[0], \n",
    "             grouped_layers, osm_params['layers_render'], \"tmp/\"))"
   ]
  },
  {
   "cell_type": "code",
   "execution_count": null,
   "id": "40bf091a-3e49-49f9-a23a-db79ef784349",
   "metadata": {},
   "outputs": [],
   "source": [
    "print(\"🎨 Rendering tiles in parallel...\")\n",
    "tile_jobs = [\n",
    "    (row[\"z\"], row[\"x\"], row[\"y\"], row[\"geometry\"], grouped_layers, params['layers_render'], tile_save_dir)\n",
    "    for _, row in tile_grid.iterrows()\n",
    "]\n",
    "\n",
    "with Pool(NUM_WORKERS) as pool:\n",
    "    pool.map(render_tile, tile_jobs)\n",
    "\n",
    "print(\"✅ Done! Tiles saved to:\", OUTPUT_DIR)"
   ]
  }
 ],
 "metadata": {
  "kernelspec": {
   "display_name": "control",
   "language": "python",
   "name": "control"
  },
  "language_info": {
   "codemirror_mode": {
    "name": "ipython",
    "version": 3
   },
   "file_extension": ".py",
   "mimetype": "text/x-python",
   "name": "python",
   "nbconvert_exporter": "python",
   "pygments_lexer": "ipython3",
   "version": "3.8.5"
  }
 },
 "nbformat": 4,
 "nbformat_minor": 5
}
